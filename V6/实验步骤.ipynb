{
 "cells": [
  {
   "cell_type": "code",
   "execution_count": 3,
   "outputs": [
    {
     "name": "stdout",
     "output_type": "stream",
     "text": [
      "torch.Size([5825, 128])\n"
     ]
    }
   ],
   "source": [
    "import torch\n",
    "import torch.nn as nn\n",
    "import torch.nn.functional as F\n",
    "\n",
    "class SimpleAttention(nn.Module):\n",
    "    def __init__(self, feature_dim):\n",
    "        super(SimpleAttention, self).__init__()\n",
    "        self.feature_dim = feature_dim\n",
    "        self.scale = 1.0 / (self.feature_dim ** 0.5)\n",
    "        self.query = nn.Linear(self.feature_dim, self.feature_dim)\n",
    "        self.key = nn.Linear(self.feature_dim, self.feature_dim)\n",
    "        self.value = nn.Linear(self.feature_dim, self.feature_dim)\n",
    "\n",
    "    def forward(self, x):\n",
    "        Q = self.query(x)\n",
    "        K = self.key(x)\n",
    "        V = self.value(x)\n",
    "\n",
    "        attention_scores = torch.matmul(Q, K.transpose(-2, -1)) * self.scale\n",
    "        attention_weights = F.softmax(attention_scores, dim=-1)\n",
    "\n",
    "        attention_output = torch.matmul(attention_weights, V)\n",
    "        return attention_output\n",
    "\n",
    "# 设置参数\n",
    "num_matrices = 5\n",
    "num_rows = 5825\n",
    "feature_dim = 128\n",
    "total_rows = num_matrices * num_rows\n",
    "\n",
    "# 创建模型实例\n",
    "attention_layer = SimpleAttention(feature_dim)\n",
    "\n",
    "# 创建一个29125x128的矩阵\n",
    "large_matrix = torch.randn(total_rows, feature_dim)\n",
    "\n",
    "# 应用注意力层\n",
    "attention_result = attention_layer(large_matrix)\n",
    "\n",
    "# 假设我们想将结果拆分回原来的五个部分并求平均\n",
    "split_attention_results = attention_result.view(num_matrices, num_rows, feature_dim)\n",
    "averaged_result = torch.mean(split_attention_results, dim=0)\n",
    "\n",
    "# 检查结果的尺寸\n",
    "print(averaged_result.shape)"
   ],
   "metadata": {
    "collapsed": false,
    "pycharm": {
     "name": "#%%\n"
    }
   }
  },
  {
   "cell_type": "code",
   "execution_count": null,
   "outputs": [],
   "source": [],
   "metadata": {
    "collapsed": false,
    "pycharm": {
     "name": "#%%\n"
    }
   }
  }
 ],
 "metadata": {
  "kernelspec": {
   "display_name": "Python 3",
   "language": "python",
   "name": "python3"
  },
  "language_info": {
   "codemirror_mode": {
    "name": "ipython",
    "version": 2
   },
   "file_extension": ".py",
   "mimetype": "text/x-python",
   "name": "python",
   "nbconvert_exporter": "python",
   "pygments_lexer": "ipython2",
   "version": "2.7.6"
  }
 },
 "nbformat": 4,
 "nbformat_minor": 0
}