{
 "cells": [
  {
   "cell_type": "code",
   "execution_count": 8,
   "outputs": [
    {
     "name": "stderr",
     "output_type": "stream",
     "text": [
      "usage: ipykernel_launcher.py [-h] [--path [PATH]] [--dataset DATASET]\n",
      "                             [--interaction INTERACTION] [--rounds ROUNDS]\n",
      "                             [--slice_epochs SLICE_EPOCHS]\n",
      "                             [--slice_lr SLICE_LR] [--slice_decay SLICE_DECAY]\n",
      "                             [--agg_epochs AGG_EPOCHS] [--agg_lr AGG_LR]\n",
      "                             [--agg_decay AGG_DECAY] [--att_lr ATT_LR]\n",
      "                             [--att_decay ATT_DECAY] [--batch_size BATCH_SIZE]\n",
      "                             [--verbose VERBOSE] [--devices DEVICES]\n",
      "                             [--save_model SAVE_MODEL] [--debug DEBUG]\n",
      "                             [--record RECORD] [--slice SLICE] [--ex EX]\n",
      "                             [--processed PROCESSED] [--retrain RETRAIN]\n",
      "                             [--slices SLICES] [--part_type PART_TYPE]\n",
      "                             [--part_iter PART_ITER] [--density DENSITY]\n",
      "                             [--dropout DROPOUT] [--dimension DIMENSION]\n",
      "                             [--order ORDER] [--num_layers NUM_LAYERS]\n",
      "                             [--node2vec NODE2VEC]\n",
      "                             [--node2vec_batchsize NODE2VEC_BATCHSIZE]\n",
      "                             [--node2vec_walk NODE2VEC_WALK]\n",
      "                             [--node2vec_dim NODE2VEC_DIM]\n",
      "                             [--node2vec_epochs NODE2VEC_EPOCHS]\n",
      "                             [--node2vec_length NODE2VEC_LENGTH]\n",
      "                             [--node2vec_windows NODE2VEC_WINDOWS]\n",
      "                             [--random_state RANDOM_STATE] [--cluster CLUSTER]\n",
      "                             [--agg_type AGG_TYPE]\n",
      "                             [--external_dim EXTERNAL_DIM] [--F F]\n",
      "                             [--agg2 AGG2] [--agg_function AGG_FUNCTION]\n",
      "                             [--dir DIR] [--input-dim INPUT_DIM]\n",
      "                             [--n-classes N_CLASSES] [--lr LR] [--wd WD]\n",
      "                             [--batch-size BATCH_SIZE] [--pre-epoch PRE_EPOCH]\n",
      "                             [--epoch EPOCH] [--pretrain PRETRAIN]\n",
      "                             [--lamda LAMDA] [--beta BETA]\n",
      "                             [--hidden-dims HIDDEN_DIMS]\n",
      "                             [--latent_dim LATENT_DIM]\n",
      "                             [--n-clusters N_CLUSTERS] [--n-jobs N_JOBS]\n",
      "                             [--cuda CUDA] [--log-interval LOG_INTERVAL]\n",
      "ipykernel_launcher.py: error: unrecognized arguments: -f /Users/zhangyuxin/Library/Jupyter/runtime/kernel-d5df0e63-ba62-4444-b8d6-bd9e5f5d0c55.json\n"
     ]
    },
    {
     "ename": "SystemExit",
     "evalue": "2",
     "output_type": "error",
     "traceback": [
      "An exception has occurred, use %tb to see the full traceback.\n",
      "\u001B[0;31mSystemExit\u001B[0m\u001B[0;31m:\u001B[0m 2\n"
     ]
    },
    {
     "name": "stderr",
     "output_type": "stream",
     "text": [
      "/Users/zhangyuxin/opt/anaconda3/envs/pytorch/lib/python3.9/site-packages/IPython/core/interactiveshell.py:3534: UserWarning: To exit: use 'exit', 'quit', or Ctrl-D.\n",
      "  warn(\"To exit: use 'exit', 'quit', or Ctrl-D.\", stacklevel=1)\n"
     ]
    }
   ],
   "source": [
    "from get_embedding import get_user_embedding\n",
    "from parsers import get_parser\n",
    "\n",
    "\n",
    "if __name__ == '__main__':\n",
    "    args = get_parser()\n",
    "    user_embedding = get_user_embedding(args)"
   ],
   "metadata": {
    "collapsed": false
   }
  },
  {
   "cell_type": "code",
   "execution_count": null,
   "outputs": [],
   "source": [],
   "metadata": {
    "collapsed": false
   }
  }
 ],
 "metadata": {
  "kernelspec": {
   "display_name": "Python 3",
   "language": "python",
   "name": "python3"
  },
  "language_info": {
   "codemirror_mode": {
    "name": "ipython",
    "version": 2
   },
   "file_extension": ".py",
   "mimetype": "text/x-python",
   "name": "python",
   "nbconvert_exporter": "python",
   "pygments_lexer": "ipython2",
   "version": "2.7.6"
  }
 },
 "nbformat": 4,
 "nbformat_minor": 0
}
