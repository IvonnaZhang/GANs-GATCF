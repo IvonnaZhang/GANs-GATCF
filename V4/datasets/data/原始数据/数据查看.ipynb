{
 "cells": [
  {
   "cell_type": "code",
   "execution_count": 4,
   "outputs": [
    {
     "name": "stdout",
     "output_type": "stream",
     "text": [
      "2\n",
      "3\n",
      "10\n",
      "5\n",
      "6\n"
     ]
    }
   ],
   "source": [
    "keys = [1,2,9,4,5]\n",
    "for i in keys:\n",
    "    i +=1\n",
    "    print(i)"
   ],
   "metadata": {
    "collapsed": false,
    "pycharm": {
     "name": "#%%\n"
    }
   }
  },
  {
   "cell_type": "code",
   "execution_count": 1,
   "outputs": [
    {
     "name": "stdout",
     "output_type": "stream",
     "text": [
      "[[1 0 0 0]\n",
      " [0 2 0 0]\n",
      " [0 0 3 0]\n",
      " [0 0 0 4]]\n"
     ]
    }
   ],
   "source": [
    "import numpy as np\n",
    "from scipy.sparse import csr_matrix\n",
    "\n",
    "# 创建一个稀疏矩阵\n",
    "row = np.array([0, 1, 2, 3])\n",
    "col = np.array([0, 1, 2, 3])\n",
    "data = np.array([1, 2, 3, 4])\n",
    "sparse_matrix = csr_matrix((data, (row, col)), shape=(4, 4))\n",
    "\n",
    "# 将稀疏矩阵转换为密集矩阵\n",
    "dense_matrix = sparse_matrix.todense()\n",
    "\n",
    "print(dense_matrix)"
   ],
   "metadata": {
    "collapsed": false,
    "pycharm": {
     "name": "#%%\n"
    }
   }
  },
  {
   "cell_type": "code",
   "execution_count": null,
   "outputs": [],
   "source": [],
   "metadata": {
    "collapsed": false,
    "pycharm": {
     "name": "#%%\n"
    }
   }
  },
  {
   "cell_type": "code",
   "execution_count": 4,
   "outputs": [
    {
     "name": "stdout",
     "output_type": "stream",
     "text": [
      "[[0.52931253 0.94985403]\n",
      " [0.18190142 0.72101798]\n",
      " [0.35246824 0.3247706 ]\n",
      " [0.0595062  0.13120677]\n",
      " [0.48921533 0.75413871]]\n",
      "[[4.95252097 1.87585966 4.08893049 1.43935175]\n",
      " [3.89476306 1.45408964 3.12460181 0.98190612]\n",
      " [1.09057764 1.04391707 3.6184253  4.79728097]\n",
      " [1.13048636 0.92870655 3.08985417 3.88327933]\n",
      " [3.97804978 1.87909852 4.88862345 3.80054299]]\n"
     ]
    }
   ],
   "source": [
    "import numpy as np\n",
    "\n",
    "# 假设有一个评分矩阵 R\n",
    "R = np.array([\n",
    "    [5, 3, 0, 1],\n",
    "    [4, 0, 0, 1],\n",
    "    [1, 1, 0, 5],\n",
    "    [1, 0, 0, 4],\n",
    "    [0, 1, 5, 4],\n",
    "])\n",
    "\n",
    "# 参数初始化\n",
    "num_users, num_items = R.shape\n",
    "k = 2  # 特征的数量\n",
    "U = np.random.rand(num_users, k)\n",
    "print(U)\n",
    "V = np.random.rand(num_items, k)\n",
    "learning_rate = 0.01\n",
    "iterations = 100\n",
    "lambda_reg = 0.02  # 正则化项\n",
    "\n",
    "# 训练模型\n",
    "for epoch in range(iterations):\n",
    "    for i in range(num_users):\n",
    "        for j in range(num_items):\n",
    "            if R[i, j] > 0:\n",
    "                # 计算误差\n",
    "                eij = R[i, j] - np.dot(U[i, :], V[j, :].T)\n",
    "                # 更新U和V\n",
    "                #print(\"V[j, :]\",V[j, :],\"U[i, :]\",U[i, :])\n",
    "                U[i, :] = U[i, :] + learning_rate * (eij * V[j, :] - lambda_reg * U[i, :])\n",
    "                V[j, :] = V[j, :] + learning_rate * (eij * U[i, :] - lambda_reg * V[j, :])\n",
    "\n",
    "# 预测评分矩阵\n",
    "R_pred = U.dot(V.T)\n",
    "print(R_pred)\n"
   ],
   "metadata": {
    "collapsed": false,
    "pycharm": {
     "name": "#%%\n"
    }
   }
  }
 ],
 "metadata": {
  "kernelspec": {
   "display_name": "Python 3",
   "language": "python",
   "name": "python3"
  },
  "language_info": {
   "codemirror_mode": {
    "name": "ipython",
    "version": 2
   },
   "file_extension": ".py",
   "mimetype": "text/x-python",
   "name": "python",
   "nbconvert_exporter": "python",
   "pygments_lexer": "ipython2",
   "version": "2.7.6"
  }
 },
 "nbformat": 4,
 "nbformat_minor": 0
}